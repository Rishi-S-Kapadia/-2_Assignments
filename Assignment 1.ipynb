{
 "cells": [
  {
   "cell_type": "markdown",
   "metadata": {},
   "source": [
    "Ans 1 -  ' * ' is multiplication operator \n",
    "        Ex : 2*6 = 6\n",
    "        \n",
    "         'hello' the inverted coma indicates the string operator\n",
    "         \n",
    "         -87.8  the decimal point indicates the floting point value\n",
    "         \n",
    "         ' - ' it is arithmetic operator for substraction\n",
    "         \n",
    "         ' / ' it is arithmetic operator for division\n",
    "         \n",
    "         ' + ' it is arithmetic operator for addition\n",
    "         \n",
    "         ' 6 ' it is a integer value"
   ]
  },
  {
   "cell_type": "markdown",
   "metadata": {},
   "source": [
    "Ans 2 -  variable is used to store the value of any datatype\n",
    "         while string is used to store sequence of characters and is immutable.\n",
    "        \n",
    "        Ex : spam it can store different datatypes\n",
    "             'spam' the inverted coma indicates a string variable and can store              only sequence of characters"
   ]
  },
  {
   "cell_type": "markdown",
   "metadata": {},
   "source": [
    "Ans 3 - Integer : It is integer data type. It contain values like 1,2,3,4,5...etc\n",
    "                  in form of whole number.\n",
    "        \n",
    "        Float : It is float datatype and contain decimal point values like 1.2, \n",
    "                2.3, 4.5,... etc.\n",
    "                \n",
    "        Boolean : It contain two values \"True\" & \"False\" . \n",
    "                  It is used to perform logical poerations like logical \n",
    "                  and & or."
   ]
  },
  {
   "cell_type": "markdown",
   "metadata": {},
   "source": [
    "Ans 4 - Expression is a combination of values, variables, operators, and calls to functions.\n",
    "        \n",
    "        Various expressions are :\n",
    "            \n"
   ]
  },
  {
   "cell_type": "markdown",
   "metadata": {},
   "source": [
    "  1. Arithmetic conversions : It convert from one data type to the other"
   ]
  },
  {
   "cell_type": "code",
   "execution_count": 3,
   "metadata": {},
   "outputs": [
    {
     "data": {
      "text/plain": [
       "float"
      ]
     },
     "execution_count": 3,
     "metadata": {},
     "output_type": "execute_result"
    }
   ],
   "source": [
    "a = 3.45\n",
    "type(a)"
   ]
  },
  {
   "cell_type": "code",
   "execution_count": 5,
   "metadata": {},
   "outputs": [
    {
     "data": {
      "text/plain": [
       "int"
      ]
     },
     "execution_count": 5,
     "metadata": {},
     "output_type": "execute_result"
    }
   ],
   "source": [
    "type(int(a))"
   ]
  },
  {
   "cell_type": "markdown",
   "metadata": {},
   "source": [
    "2. Atoms : An atom is something that has a value. Identifiers, Literals, Strings, Lists, Tuples, Sets etc. are all atoms."
   ]
  },
  {
   "cell_type": "code",
   "execution_count": 2,
   "metadata": {},
   "outputs": [],
   "source": [
    "x = [0, 1, 2, 3, 4, 5, 6, 7, 8, 9]\n",
    "y = (0, 1, 2, 3, 4, 5, 6, 7, 8, 9)"
   ]
  },
  {
   "cell_type": "markdown",
   "metadata": {},
   "source": [
    "3. Primaries: It represent the most tightly bound operations of the language. \n",
    "\n",
    "    It includes atom, attributeref, subscription, slicing and call\n",
    "    \n",
    "    3.1. Attribute references: An attribute reference is a primary followed by a period and a name.\n",
    "                                ex: attributeref=  primary \".\" identifier\n",
    "                                \n",
    "    3.2 Subscriptions: Subscription of a sequence (string, tuple or list) or mapping (dictionary) object usually selects an item                          from the collection.\n",
    "                       ex : subscription =  primary \"[\" expression_list \"]\"\n",
    "                       \n",
    "    3.3. Slicings : A slicing selects a range of items in a sequence object (e.g., a string, tuple or list). Slicings may be                         used as expressions or as targets in assignment or del satements.\n",
    "                    ex: slicing      ::=  primary \"[\" slice_list \"]\"\n",
    "                        slice_list   ::=  slice_item (\",\" slice_item)* [\",\"]\n",
    "                        slice_item   ::=  expression | proper_slice\n",
    "                        proper_slice ::=  [lower_bound] \":\" [upper_bound]\n",
    "                        \n",
    "     3.4. Calls : A call calls a callable object (e.g., a function) with a possibly empty series of arguments.\n",
    "                 ex: \n",
    "    "
   ]
  },
  {
   "cell_type": "code",
   "execution_count": 3,
   "metadata": {},
   "outputs": [
    {
     "name": "stdout",
     "output_type": "stream",
     "text": [
      "1 2\n"
     ]
    }
   ],
   "source": [
    "def f(a, b):\n",
    "     print(a, b)\n",
    "\n",
    "f(1,2)\n"
   ]
  },
  {
   "cell_type": "markdown",
   "metadata": {},
   "source": [
    "4. Await expression: Suspend the execution of coroutine on an awaitable object. Can only be used inside a coroutine function."
   ]
  },
  {
   "cell_type": "markdown",
   "metadata": {},
   "source": [
    "5. The power operator : The power operator binds more tightly than unary operators on its left; it binds less tightly than unary operators on its right. "
   ]
  },
  {
   "cell_type": "markdown",
   "metadata": {},
   "source": [
    "Ans 6 - After running the code the variable bacon contain 23"
   ]
  },
  {
   "cell_type": "markdown",
   "metadata": {},
   "source": [
    "Ans 7 - "
   ]
  },
  {
   "cell_type": "code",
   "execution_count": 4,
   "metadata": {},
   "outputs": [
    {
     "name": "stdout",
     "output_type": "stream",
     "text": [
      "spamspamspam spamspamspam\n"
     ]
    }
   ],
   "source": [
    "a = \"spam\"\n",
    "b = \"spamspam\"\n",
    "c = a + b\n",
    "d = a*3\n",
    "print(c,d)"
   ]
  },
  {
   "cell_type": "markdown",
   "metadata": {},
   "source": [
    "Ans 8 - eggs is a valid variable because it contain character values. While, 100 is an integer value which is not valid for variable declaration."
   ]
  },
  {
   "cell_type": "markdown",
   "metadata": {},
   "source": [
    "Ans 9 - "
   ]
  },
  {
   "cell_type": "code",
   "execution_count": 5,
   "metadata": {},
   "outputs": [
    {
     "data": {
      "text/plain": [
       "1"
      ]
     },
     "execution_count": 5,
     "metadata": {},
     "output_type": "execute_result"
    }
   ],
   "source": [
    "int(1.23)"
   ]
  },
  {
   "cell_type": "code",
   "execution_count": 6,
   "metadata": {},
   "outputs": [
    {
     "data": {
      "text/plain": [
       "23.0"
      ]
     },
     "execution_count": 6,
     "metadata": {},
     "output_type": "execute_result"
    }
   ],
   "source": [
    "float(23)"
   ]
  },
  {
   "cell_type": "code",
   "execution_count": 8,
   "metadata": {},
   "outputs": [
    {
     "data": {
      "text/plain": [
       "'45'"
      ]
     },
     "execution_count": 8,
     "metadata": {},
     "output_type": "execute_result"
    }
   ],
   "source": [
    "str(45)"
   ]
  },
  {
   "cell_type": "markdown",
   "metadata": {},
   "source": [
    "Ans 10 - "
   ]
  },
  {
   "cell_type": "code",
   "execution_count": 10,
   "metadata": {},
   "outputs": [
    {
     "ename": "TypeError",
     "evalue": "can only concatenate str (not \"int\") to str",
     "output_type": "error",
     "traceback": [
      "\u001b[1;31m---------------------------------------------------------------------------\u001b[0m",
      "\u001b[1;31mTypeError\u001b[0m                                 Traceback (most recent call last)",
      "\u001b[1;32m<ipython-input-10-42ba18197d19>\u001b[0m in \u001b[0;36m<module>\u001b[1;34m\u001b[0m\n\u001b[1;32m----> 1\u001b[1;33m \u001b[1;34m' I have eaten '\u001b[0m \u001b[1;33m+\u001b[0m \u001b[1;36m99\u001b[0m \u001b[1;33m+\u001b[0m \u001b[1;34m'burritos.'\u001b[0m\u001b[1;33m\u001b[0m\u001b[1;33m\u001b[0m\u001b[0m\n\u001b[0m",
      "\u001b[1;31mTypeError\u001b[0m: can only concatenate str (not \"int\") to str"
     ]
    }
   ],
   "source": [
    "' I have eaten ' + 99 + 'burritos.'"
   ]
  },
  {
   "cell_type": "markdown",
   "metadata": {},
   "source": [
    "Solution"
   ]
  },
  {
   "cell_type": "code",
   "execution_count": 11,
   "metadata": {},
   "outputs": [
    {
     "data": {
      "text/plain": [
       "' I have eaten 99 burritos.'"
      ]
     },
     "execution_count": 11,
     "metadata": {},
     "output_type": "execute_result"
    }
   ],
   "source": [
    "' I have eaten ' + '99 '+ 'burritos.'"
   ]
  },
  {
   "cell_type": "code",
   "execution_count": null,
   "metadata": {},
   "outputs": [],
   "source": []
  }
 ],
 "metadata": {
  "kernelspec": {
   "display_name": "Python 3",
   "language": "python",
   "name": "python3"
  },
  "language_info": {
   "codemirror_mode": {
    "name": "ipython",
    "version": 3
   },
   "file_extension": ".py",
   "mimetype": "text/x-python",
   "name": "python",
   "nbconvert_exporter": "python",
   "pygments_lexer": "ipython3",
   "version": "3.8.3"
  }
 },
 "nbformat": 4,
 "nbformat_minor": 4
}
