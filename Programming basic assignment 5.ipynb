{
 "cells": [
  {
   "cell_type": "markdown",
   "metadata": {},
   "source": [
    "Ans 1"
   ]
  },
  {
   "cell_type": "code",
   "execution_count": 1,
   "metadata": {},
   "outputs": [],
   "source": [
    "def lcm(a,b):    \n",
    "    maxNum = max(a,b)\n",
    "\n",
    "    while (True):\n",
    "        if maxNum%a==0 and maxNum%b == 0:\n",
    "           # break\n",
    "            lcm = maxNum\n",
    "            break\n",
    "        maxNum +=1\n",
    "    print(f\"Lcm of {a} and {b} is {maxNum}\")\n",
    "    \n",
    "   # return lcm\n",
    "    \n"
   ]
  },
  {
   "cell_type": "code",
   "execution_count": 2,
   "metadata": {
    "scrolled": true
   },
   "outputs": [
    {
     "name": "stdout",
     "output_type": "stream",
     "text": [
      "Lcm of 54 and 24 is 216\n"
     ]
    }
   ],
   "source": [
    "lcm(54,24)"
   ]
  },
  {
   "cell_type": "markdown",
   "metadata": {},
   "source": [
    "Ans 2"
   ]
  },
  {
   "cell_type": "code",
   "execution_count": 3,
   "metadata": {},
   "outputs": [],
   "source": [
    "def hcf(a,b):\n",
    "    while(b):\n",
    "        a,b = b , a%b\n",
    "    print(f\"Hcf is {a}\")"
   ]
  },
  {
   "cell_type": "code",
   "execution_count": 4,
   "metadata": {},
   "outputs": [
    {
     "name": "stdout",
     "output_type": "stream",
     "text": [
      "Hcf is 6\n"
     ]
    }
   ],
   "source": [
    "hcf(54,24)"
   ]
  },
  {
   "cell_type": "markdown",
   "metadata": {},
   "source": [
    "Ans 3"
   ]
  },
  {
   "cell_type": "code",
   "execution_count": null,
   "metadata": {},
   "outputs": [],
   "source": [
    "\n"
   ]
  },
  {
   "cell_type": "code",
   "execution_count": 5,
   "metadata": {
    "scrolled": true
   },
   "outputs": [
    {
     "ename": "NameError",
     "evalue": "name 'dec_ti_bin' is not defined",
     "output_type": "error",
     "traceback": [
      "\u001b[1;31m---------------------------------------------------------------------------\u001b[0m",
      "\u001b[1;31mNameError\u001b[0m                                 Traceback (most recent call last)",
      "\u001b[1;32m<ipython-input-5-0f164f953c03>\u001b[0m in \u001b[0;36m<module>\u001b[1;34m\u001b[0m\n\u001b[1;32m----> 1\u001b[1;33m \u001b[0mdec_ti_bin\u001b[0m\u001b[1;33m(\u001b[0m\u001b[1;36m8\u001b[0m\u001b[1;33m)\u001b[0m\u001b[1;33m\u001b[0m\u001b[1;33m\u001b[0m\u001b[0m\n\u001b[0m\u001b[0;32m      2\u001b[0m \u001b[0mdec_ti_oct\u001b[0m\u001b[1;33m(\u001b[0m\u001b[1;36m33\u001b[0m\u001b[1;33m)\u001b[0m\u001b[1;33m\u001b[0m\u001b[1;33m\u001b[0m\u001b[0m\n\u001b[0;32m      3\u001b[0m \u001b[0mdec_ti_hex\u001b[0m\u001b[1;33m(\u001b[0m\u001b[1;36m44\u001b[0m\u001b[1;33m)\u001b[0m\u001b[1;33m\u001b[0m\u001b[1;33m\u001b[0m\u001b[0m\n",
      "\u001b[1;31mNameError\u001b[0m: name 'dec_ti_bin' is not defined"
     ]
    }
   ],
   "source": [
    "dec_ti_bin(8)\n",
    "dec_ti_oct(33)\n",
    "dec_ti_hex(44)"
   ]
  },
  {
   "cell_type": "code",
   "execution_count": 6,
   "metadata": {},
   "outputs": [
    {
     "name": "stdout",
     "output_type": "stream",
     "text": [
      "Enter a number: 44\n",
      "Hexadecimal:  2C\n"
     ]
    }
   ],
   "source": [
    "conversion_table = ['0', '1', '2', '3', '4', '5', '6', '7', '8', '9', 'A' , 'B', 'C', 'D', 'E', 'F']\n",
    "\n",
    "decimal = int(input(\"Enter a number: \"))\n",
    "hexadecimal = ''\n",
    "\n",
    "while(decimal>0):\n",
    "    remainder = decimal%16\n",
    "    hexadecimal = conversion_table[remainder]+ hexadecimal\n",
    "    decimal = decimal//16\n",
    "    \n",
    "print(\"Hexadecimal: \",hexadecimal)"
   ]
  },
  {
   "cell_type": "markdown",
   "metadata": {},
   "source": [
    "   "
   ]
  },
  {
   "cell_type": "markdown",
   "metadata": {},
   "source": [
    "Ans 4"
   ]
  },
  {
   "cell_type": "code",
   "execution_count": 9,
   "metadata": {},
   "outputs": [
    {
     "name": "stdout",
     "output_type": "stream",
     "text": [
      "Enter a character: a\n",
      "The ASCII value of 'a' is 97\n"
     ]
    }
   ],
   "source": [
    "char = input(\"Enter a character: \")    \n",
    "print(\"The ASCII value of '\" + char + \"' is\",ord(char))  "
   ]
  },
  {
   "cell_type": "markdown",
   "metadata": {},
   "source": [
    "   "
   ]
  },
  {
   "cell_type": "markdown",
   "metadata": {},
   "source": [
    "Ans 5"
   ]
  },
  {
   "cell_type": "code",
   "execution_count": 10,
   "metadata": {},
   "outputs": [],
   "source": [
    "def calculator():\n",
    "    \n",
    "     operation = input(\" Enter the operation +, -, /, * :-  \")\n",
    "     try:\n",
    "        \n",
    "         if operation in ( '+' , '-' , '*' , '/') :\n",
    "                ip1 = int(input (\"Enter the first number: \"))\n",
    "                ip2 = int(input (\"Enter the second number: \"))\n",
    "\n",
    "                if operation == '+':\n",
    "                    print(f\"The addition of numbers is : {ip1+ip2}\")\n",
    "\n",
    "                elif operation == '-':\n",
    "                     print(f\"The substraction of numbers is : {ip1-ip2}\")\n",
    "\n",
    "                elif operation == '/':\n",
    "                         print(f\"The division of numbers is : {ip1/ip2}\")\n",
    "\n",
    "                elif operation == '*':\n",
    "                     print(f\"The multiplication of numbers is : {ip1*ip2}\")\n",
    "\n",
    "\n",
    "         else :\n",
    "            print(\"Invalid operation\")\n",
    "     except:\n",
    "           print(\"Dividion by zero is not possible\")\n"
   ]
  },
  {
   "cell_type": "code",
   "execution_count": 11,
   "metadata": {},
   "outputs": [
    {
     "name": "stdout",
     "output_type": "stream",
     "text": [
      " Enter the operation +, -, /, * :-  *\n",
      "Enter the first number: 45\n",
      "Enter the second number: 57\n",
      "The multiplication of numbers is : 2565\n"
     ]
    }
   ],
   "source": [
    "calculator()"
   ]
  },
  {
   "cell_type": "code",
   "execution_count": null,
   "metadata": {},
   "outputs": [],
   "source": []
  }
 ],
 "metadata": {
  "kernelspec": {
   "display_name": "Python 3",
   "language": "python",
   "name": "python3"
  },
  "language_info": {
   "codemirror_mode": {
    "name": "ipython",
    "version": 3
   },
   "file_extension": ".py",
   "mimetype": "text/x-python",
   "name": "python",
   "nbconvert_exporter": "python",
   "pygments_lexer": "ipython3",
   "version": "3.8.3"
  }
 },
 "nbformat": 4,
 "nbformat_minor": 4
}
